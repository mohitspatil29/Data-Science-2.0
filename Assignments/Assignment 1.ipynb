{
 "cells": [
  {
   "cell_type": "markdown",
   "id": "42ca7182",
   "metadata": {},
   "source": [
    "Q1. Create one variable containing following type of data:\n",
    "\n",
    "(i)\tstring\n",
    "\n",
    "(ii) list\n",
    "\n",
    "(iii) float\n",
    "\n",
    "(iv) tuple"
   ]
  },
  {
   "cell_type": "code",
   "execution_count": 1,
   "id": "d6f151c8",
   "metadata": {},
   "outputs": [],
   "source": [
    "# (i) string\n",
    "name = 'Mohit'\n",
    "\n",
    "# (ii) list\n",
    "lst = [1,2,'A', 'B']\n",
    "\n",
    "# (iii) float\n",
    "dec = 3.10\n",
    "\n",
    "# (iv) tuple\n",
    "tup = (1,2,'A', 'B')"
   ]
  },
  {
   "cell_type": "markdown",
   "id": "43dea836",
   "metadata": {},
   "source": [
    "Q2. Given are some following variables containing data:\n",
    "\n",
    "(i)\tvar1 = ‘ ‘\n",
    "\n",
    "(ii)\tvar2 = ‘[ DS , ML , Python]’\n",
    "\n",
    "(iii)\tvar3 = [ ‘DS’ , ’ML’ , ‘Python’ ]\n",
    "\n",
    "(iv)\tvar4 = 1\n",
    "\n",
    "What will be the data type of the above given variable"
   ]
  },
  {
   "cell_type": "markdown",
   "id": "b3695bf5",
   "metadata": {},
   "source": [
    "Answer\n",
    "\n",
    "(i) str\n",
    "\n",
    "(ii) str\n",
    "\n",
    "(iii) list\n",
    "\n",
    "(iv) int"
   ]
  },
  {
   "cell_type": "markdown",
   "id": "f49901dc",
   "metadata": {},
   "source": [
    "Q3. Explain the use of the following operators using an example:\n",
    "\n",
    "(i)\t/\n",
    "\n",
    "(ii)\t% \n",
    "\n",
    "(iii)\t//\n",
    "\n",
    "(iv)\t**"
   ]
  },
  {
   "cell_type": "code",
   "execution_count": 2,
   "id": "2fc058bf",
   "metadata": {},
   "outputs": [
    {
     "name": "stdout",
     "output_type": "stream",
     "text": [
      "3.3333333333333335\n"
     ]
    }
   ],
   "source": [
    "# (i) / forward slash operator is used for division operation.\n",
    "\n",
    "div = 10/3\n",
    "print(div)"
   ]
  },
  {
   "cell_type": "code",
   "execution_count": 3,
   "id": "9ec62801",
   "metadata": {},
   "outputs": [
    {
     "name": "stdout",
     "output_type": "stream",
     "text": [
      "1\n"
     ]
    }
   ],
   "source": [
    "# (ii) % modulus operator, It returns the remainder of the division between two numbers.\n",
    "\n",
    "rem = 10%3\n",
    "print(rem)"
   ]
  },
  {
   "cell_type": "code",
   "execution_count": 4,
   "id": "4deeaafa",
   "metadata": {},
   "outputs": [
    {
     "name": "stdout",
     "output_type": "stream",
     "text": [
      "3\n"
     ]
    }
   ],
   "source": [
    "# (iii) // floor division. It returns the largest integer less than or equal to the division result\n",
    "\n",
    "floor = 10//3\n",
    "print(floor)"
   ]
  },
  {
   "cell_type": "code",
   "execution_count": 5,
   "id": "4d185696",
   "metadata": {},
   "outputs": [
    {
     "name": "stdout",
     "output_type": "stream",
     "text": [
      "1000\n"
     ]
    }
   ],
   "source": [
    "# (iv) ** operator is used for exponentiation, which raises a number to a power.\n",
    "\n",
    "op = 10**3\n",
    "print(op)"
   ]
  },
  {
   "cell_type": "markdown",
   "id": "3e32f61f",
   "metadata": {},
   "source": [
    "Q4. Create a list of length 10 of your choice containing multiple types of data. Using for loop print the \n",
    "element and its data type."
   ]
  },
  {
   "cell_type": "code",
   "execution_count": 6,
   "id": "809f1f2e",
   "metadata": {},
   "outputs": [
    {
     "name": "stdout",
     "output_type": "stream",
     "text": [
      "1 <class 'int'>\n",
      "2 <class 'int'>\n",
      "3 <class 'int'>\n",
      "['A', 'B', 'C'] <class 'list'>\n",
      "1.5 <class 'float'>\n",
      "Mohit <class 'str'>\n",
      "(1+2j) <class 'complex'>\n",
      "(1, 2) <class 'tuple'>\n",
      "{'a': 1, 'b': 2} <class 'dict'>\n",
      "True <class 'bool'>\n"
     ]
    }
   ],
   "source": [
    "lst = [1,2,3,['A', 'B', 'C'], 1.5, 'Mohit', 1+2j , (1,2), {'a':1, 'b':2}, True]\n",
    "\n",
    "for i in lst:\n",
    "    print(i, type(i))"
   ]
  },
  {
   "cell_type": "markdown",
   "id": "7f69a276",
   "metadata": {},
   "source": [
    "Q5. Using a while loop, verify if the number A is purely divisible by number B and if so then how many \n",
    "times it can be divisible."
   ]
  },
  {
   "cell_type": "code",
   "execution_count": 7,
   "id": "753e35bf",
   "metadata": {},
   "outputs": [
    {
     "name": "stdout",
     "output_type": "stream",
     "text": [
      "64 is divisible by 4, 3 times.\n"
     ]
    }
   ],
   "source": [
    "def calculate_division(a, b):\n",
    "    count = 0\n",
    "\n",
    "    while a >= b:\n",
    "        if a % b == 0:\n",
    "            count += 1\n",
    "            a = a / b\n",
    "        else:\n",
    "            break\n",
    "\n",
    "    return count\n",
    "\n",
    "# Example usage\n",
    "number_a = 64\n",
    "number_b = 4\n",
    "\n",
    "divisions = calculate_division(number_a, number_b)\n",
    "print(f\"{number_a} is divisible by {number_b}, {divisions} times.\")"
   ]
  },
  {
   "cell_type": "markdown",
   "id": "dfed2d24",
   "metadata": {},
   "source": [
    "Q6. Create a list containing 25 int type data. Using for loop and if-else condition print if the element is \n",
    "divisible by 3 or not"
   ]
  },
  {
   "cell_type": "code",
   "execution_count": 8,
   "id": "093b6f57",
   "metadata": {},
   "outputs": [
    {
     "name": "stdout",
     "output_type": "stream",
     "text": [
      "1 is not divisible by 3\n",
      "2 is not divisible by 3\n",
      "3 is divisible by 3\n",
      "4 is not divisible by 3\n",
      "5 is not divisible by 3\n",
      "6 is divisible by 3\n",
      "7 is not divisible by 3\n",
      "8 is not divisible by 3\n",
      "9 is divisible by 3\n",
      "10 is not divisible by 3\n",
      "11 is not divisible by 3\n",
      "12 is divisible by 3\n",
      "13 is not divisible by 3\n",
      "14 is not divisible by 3\n",
      "15 is divisible by 3\n",
      "16 is not divisible by 3\n",
      "17 is not divisible by 3\n",
      "18 is divisible by 3\n",
      "19 is not divisible by 3\n",
      "20 is not divisible by 3\n",
      "21 is divisible by 3\n",
      "22 is not divisible by 3\n",
      "23 is not divisible by 3\n",
      "24 is divisible by 3\n",
      "25 is not divisible by 3\n"
     ]
    }
   ],
   "source": [
    "lst = [1, 2, 3, 4, 5, 6, 7, 8, 9, 10, 11, 12, 13, 14, 15, 16, 17, 18, 19, 20, 21, 22, 23, 24, 25]\n",
    "\n",
    "for i in lst:\n",
    "    if i%3==0:\n",
    "        print(f'{i} is divisible by 3')\n",
    "    else:\n",
    "        print(f'{i} is not divisible by 3')"
   ]
  },
  {
   "cell_type": "markdown",
   "id": "5f6caf1c",
   "metadata": {},
   "source": [
    "Q7. What do you understand about mutable and immutable data types? Give examples for both showing \n",
    "this property."
   ]
  },
  {
   "cell_type": "markdown",
   "id": "bb04f1cf",
   "metadata": {},
   "source": [
    "1. Mutable data types are those whose values can be modified after they are created\n",
    "\n",
    "    Example: List, Dictionaries, Set"
   ]
  },
  {
   "cell_type": "code",
   "execution_count": 9,
   "id": "db25a9e8",
   "metadata": {},
   "outputs": [
    {
     "name": "stdout",
     "output_type": "stream",
     "text": [
      "[1, 2, 3, 4]\n"
     ]
    }
   ],
   "source": [
    "my_list = [1, 2, 3]\n",
    "my_list.append(4)\n",
    "print(my_list)"
   ]
  },
  {
   "cell_type": "code",
   "execution_count": 10,
   "id": "c79407d4",
   "metadata": {},
   "outputs": [
    {
     "name": "stdout",
     "output_type": "stream",
     "text": [
      "{'name': 'John', 'age': 26}\n"
     ]
    }
   ],
   "source": [
    "my_dict = {'name': 'John', 'age': 25}\n",
    "my_dict['age'] = 26\n",
    "print(my_dict)"
   ]
  },
  {
   "cell_type": "markdown",
   "id": "01d8c1b0",
   "metadata": {},
   "source": [
    "2. Immutable data types are those whose values can not be modified after they are created\n",
    "\n",
    "    Example: String, Int, Float, Tuples"
   ]
  },
  {
   "cell_type": "code",
   "execution_count": 11,
   "id": "22665bb1",
   "metadata": {},
   "outputs": [
    {
     "ename": "AttributeError",
     "evalue": "'tuple' object has no attribute 'append'",
     "output_type": "error",
     "traceback": [
      "\u001b[1;31m---------------------------------------------------------------------------\u001b[0m",
      "\u001b[1;31mAttributeError\u001b[0m                            Traceback (most recent call last)",
      "Cell \u001b[1;32mIn[11], line 2\u001b[0m\n\u001b[0;32m      1\u001b[0m my_list \u001b[38;5;241m=\u001b[39m (\u001b[38;5;241m1\u001b[39m, \u001b[38;5;241m2\u001b[39m, \u001b[38;5;241m3\u001b[39m)\n\u001b[1;32m----> 2\u001b[0m \u001b[43mmy_list\u001b[49m\u001b[38;5;241;43m.\u001b[39;49m\u001b[43mappend\u001b[49m(\u001b[38;5;241m4\u001b[39m)\n\u001b[0;32m      3\u001b[0m \u001b[38;5;28mprint\u001b[39m(my_list)\n",
      "\u001b[1;31mAttributeError\u001b[0m: 'tuple' object has no attribute 'append'"
     ]
    }
   ],
   "source": [
    "my_list = (1, 2, 3)\n",
    "my_list.append(4)\n",
    "print(my_list)"
   ]
  }
 ],
 "metadata": {
  "kernelspec": {
   "display_name": "Python 3 (ipykernel)",
   "language": "python",
   "name": "python3"
  },
  "language_info": {
   "codemirror_mode": {
    "name": "ipython",
    "version": 3
   },
   "file_extension": ".py",
   "mimetype": "text/x-python",
   "name": "python",
   "nbconvert_exporter": "python",
   "pygments_lexer": "ipython3",
   "version": "3.11.1"
  }
 },
 "nbformat": 4,
 "nbformat_minor": 5
}
