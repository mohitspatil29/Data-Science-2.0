{
 "cells": [
  {
   "cell_type": "markdown",
   "id": "56a5c6d8",
   "metadata": {},
   "source": [
    "Q1. How do you comment code in Python? What are the different types of comments?"
   ]
  },
  {
   "cell_type": "raw",
   "id": "e2a6998a",
   "metadata": {},
   "source": [
    "There are two main types of comments in Python:\n",
    "\n",
    "# This is a single-line comment\n",
    "\n",
    "'''\n",
    "This\n",
    "is \n",
    "multiline \n",
    "comment\n",
    "'''"
   ]
  },
  {
   "cell_type": "markdown",
   "id": "f3797b02",
   "metadata": {},
   "source": [
    "Q2. What are variables in Python? How do you declare and assign values to variables?"
   ]
  },
  {
   "cell_type": "markdown",
   "id": "f7dab7e1",
   "metadata": {},
   "source": [
    "Variables are used to store and manipulate data.\n",
    "\n",
    "They act as named containers that hold values of different types, such as numbers, strings, lists, or objects.\n",
    "\n",
    "Variables allow you to store data and refer to it by a specific name throughout your program.\n",
    "\n",
    "\n",
    "The variable name can be chosen according to our preference but should follow Python's naming rules, such as starting with a letter or underscore, and can contain letters, digits, or underscores.\n",
    "\n",
    "Python is dynamically typed, meaning you don't need to specify the type of a variable explicitly."
   ]
  },
  {
   "cell_type": "code",
   "execution_count": 1,
   "id": "061a0574",
   "metadata": {},
   "outputs": [],
   "source": [
    "# For Example\n",
    "\n",
    "x = 10 \n",
    "\n",
    "y = ['a', 'b']"
   ]
  },
  {
   "cell_type": "markdown",
   "id": "88d4e8a7",
   "metadata": {},
   "source": [
    "Q3. How do you convert one data type to another in Python?"
   ]
  },
  {
   "cell_type": "markdown",
   "id": "d9adcddd",
   "metadata": {},
   "source": [
    "In Python, you can convert one data type to another using type conversion functions or typecasting\n",
    "\n",
    "Integer Conversion:"
   ]
  },
  {
   "cell_type": "code",
   "execution_count": 2,
   "id": "d9fea1b8",
   "metadata": {},
   "outputs": [],
   "source": [
    "x = '10'\n",
    "x = int(x)"
   ]
  },
  {
   "cell_type": "markdown",
   "id": "9eb96953",
   "metadata": {},
   "source": [
    "Floating-Point Conversion: "
   ]
  },
  {
   "cell_type": "code",
   "execution_count": 3,
   "id": "7e2ef4fa",
   "metadata": {},
   "outputs": [],
   "source": [
    "x = '10.5'\n",
    "x = float(x)"
   ]
  },
  {
   "cell_type": "markdown",
   "id": "a936440a",
   "metadata": {},
   "source": [
    "String Conversion: "
   ]
  },
  {
   "cell_type": "code",
   "execution_count": 4,
   "id": "059cdf51",
   "metadata": {},
   "outputs": [],
   "source": [
    "x = 10\n",
    "x = str(10)"
   ]
  },
  {
   "cell_type": "markdown",
   "id": "92daeca7",
   "metadata": {},
   "source": [
    "List Conversion:"
   ]
  },
  {
   "cell_type": "code",
   "execution_count": 5,
   "id": "556528eb",
   "metadata": {},
   "outputs": [],
   "source": [
    "x = (1,2,3)\n",
    "x = list(x)"
   ]
  },
  {
   "cell_type": "markdown",
   "id": "1a590e1e",
   "metadata": {},
   "source": [
    "Tuple Conversion"
   ]
  },
  {
   "cell_type": "code",
   "execution_count": 6,
   "id": "06797610",
   "metadata": {},
   "outputs": [],
   "source": [
    "x = [4, 5, 6]\n",
    "x = tuple(x)"
   ]
  },
  {
   "cell_type": "markdown",
   "id": "1be762f0",
   "metadata": {},
   "source": [
    "Q4. How do you write and execute a Python script from the command line?"
   ]
  },
  {
   "cell_type": "markdown",
   "id": "9e06581a",
   "metadata": {},
   "source": [
    "1. Open a text editor or IDE and write a python scripot with '.py' extension and save it. For example I save one python script as example.py\n",
    "\n",
    "2. Open command line interface, navigate to the python script location using 'cd'.\n",
    "\n",
    "3. Once you are in the correct directory, you can execute the Python script using the python command followed by the name of your script file. \n",
    "\n",
    "4. python example.py "
   ]
  },
  {
   "cell_type": "markdown",
   "id": "6f8c6975",
   "metadata": {},
   "source": [
    "Q5. Given a list my_list = [1, 2, 3, 4, 5], write the code to slice the list and obtain the sub-list [2, 3]."
   ]
  },
  {
   "cell_type": "code",
   "execution_count": 7,
   "id": "2e37c991",
   "metadata": {},
   "outputs": [
    {
     "name": "stdout",
     "output_type": "stream",
     "text": [
      "[2, 3]\n"
     ]
    }
   ],
   "source": [
    "my_list = [1, 2, 3, 4, 5]\n",
    "\n",
    "sub_list = my_list[1:3]\n",
    "\n",
    "print(sub_list)"
   ]
  },
  {
   "cell_type": "markdown",
   "id": "d2edd57f",
   "metadata": {},
   "source": [
    "Q6. What is a complex number in mathematics, and how is it represented in Python?"
   ]
  },
  {
   "cell_type": "markdown",
   "id": "05e39fd2",
   "metadata": {},
   "source": [
    "In Python, complex numbers are represented using the complex data type. \n",
    "\n",
    "The imaginary unit i is represented by the letter j in Python.\n",
    "\n",
    "You can create a complex number by using the syntax a + bj, where a and b are real numbers"
   ]
  },
  {
   "cell_type": "code",
   "execution_count": 8,
   "id": "7c549ec0",
   "metadata": {},
   "outputs": [
    {
     "name": "stdout",
     "output_type": "stream",
     "text": [
      "(3+2j)\n",
      "3.0\n",
      "2.0\n"
     ]
    }
   ],
   "source": [
    "z1 = 3 + 2j\n",
    "print(z1)\n",
    "\n",
    "# Access the real and imaginary parts of a complex number\n",
    "print(z1.real)\n",
    "print(z1.imag)"
   ]
  },
  {
   "cell_type": "markdown",
   "id": "d0608fd5",
   "metadata": {},
   "source": [
    "Q7. What is the correct way to declare a variable named age and assign the value 25 to it?"
   ]
  },
  {
   "cell_type": "code",
   "execution_count": 9,
   "id": "c0ae46c0",
   "metadata": {},
   "outputs": [],
   "source": [
    "age = 25"
   ]
  },
  {
   "cell_type": "markdown",
   "id": "0aba86a0",
   "metadata": {},
   "source": [
    "Q8. Declare a variable named price and assign the value 9.99 to it. What data type does this variable belong to?"
   ]
  },
  {
   "cell_type": "code",
   "execution_count": 10,
   "id": "1a9531e0",
   "metadata": {},
   "outputs": [
    {
     "data": {
      "text/plain": [
       "float"
      ]
     },
     "execution_count": 10,
     "metadata": {},
     "output_type": "execute_result"
    }
   ],
   "source": [
    "price = 9.99 # Data type is float\n",
    "\n",
    "type(price)"
   ]
  },
  {
   "cell_type": "markdown",
   "id": "e8d3967f",
   "metadata": {},
   "source": [
    "Q9. Create a variable named name and assign your full name to it as a string. How would you print the value of this variable?"
   ]
  },
  {
   "cell_type": "code",
   "execution_count": 11,
   "id": "dee15414",
   "metadata": {},
   "outputs": [
    {
     "name": "stdout",
     "output_type": "stream",
     "text": [
      "Mohit Shirish Patil\n"
     ]
    }
   ],
   "source": [
    "name = 'Mohit Shirish Patil'\n",
    "\n",
    "print(name)"
   ]
  },
  {
   "cell_type": "markdown",
   "id": "ba8c01f8",
   "metadata": {},
   "source": [
    "Q10. Given the string \"Hello, World!\", extract the substring \"World\"."
   ]
  },
  {
   "cell_type": "code",
   "execution_count": 12,
   "id": "dd28fb11",
   "metadata": {},
   "outputs": [
    {
     "name": "stdout",
     "output_type": "stream",
     "text": [
      "Hello\n"
     ]
    }
   ],
   "source": [
    "string = 'Hello, World!'\n",
    "\n",
    "print(string[0:5])"
   ]
  },
  {
   "cell_type": "markdown",
   "id": "84f67fca",
   "metadata": {},
   "source": [
    "Q11. Create a variable named \"is_student\" and assign it a boolean value indicating whether you are currently a student or not."
   ]
  },
  {
   "cell_type": "code",
   "execution_count": 13,
   "id": "cd924d6a",
   "metadata": {},
   "outputs": [],
   "source": [
    "is_student = True"
   ]
  }
 ],
 "metadata": {
  "kernelspec": {
   "display_name": "Python 3 (ipykernel)",
   "language": "python",
   "name": "python3"
  },
  "language_info": {
   "codemirror_mode": {
    "name": "ipython",
    "version": 3
   },
   "file_extension": ".py",
   "mimetype": "text/x-python",
   "name": "python",
   "nbconvert_exporter": "python",
   "pygments_lexer": "ipython3",
   "version": "3.11.1"
  }
 },
 "nbformat": 4,
 "nbformat_minor": 5
}
